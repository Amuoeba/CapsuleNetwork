{
 "cells": [
  {
   "cell_type": "markdown",
   "metadata": {},
   "source": [
    "# Pytorch tutorial\n",
    "## Basics\n",
    "Tensors in pytorch. x = num_rows, y=num_columns\n"
   ]
  },
  {
   "cell_type": "code",
   "execution_count": 25,
   "metadata": {},
   "outputs": [],
   "source": [
    "import torch\n",
    "import matplotlib.pyplot as plt\n",
    "import numpy as np\n",
    "import torch.nn as nn\n",
    "import torch.nn.functional as F\n",
    "import torch.optim as optim\n",
    "import torchvision        \n",
    "import torchvision.transforms as transforms\n",
    "import random"
   ]
  },
  {
   "cell_type": "code",
   "execution_count": 2,
   "metadata": {},
   "outputs": [
    {
     "name": "stdout",
     "output_type": "stream",
     "text": [
      "23erik\n"
     ]
    },
    {
     "ename": "TypeError",
     "evalue": "list indices must be integers or slices, not tuple",
     "output_type": "error",
     "traceback": [
      "\u001b[0;31m---------------------------------------------------------------------------\u001b[0m",
      "\u001b[0;31mTypeError\u001b[0m                                 Traceback (most recent call last)",
      "\u001b[0;32m<ipython-input-2-3134a10d31af>\u001b[0m in \u001b[0;36m<module>\u001b[0;34m()\u001b[0m\n\u001b[1;32m      4\u001b[0m \u001b[0mc\u001b[0m \u001b[0;34m=\u001b[0m \u001b[0ma\u001b[0m \u001b[0;34m+\u001b[0m \u001b[0mb\u001b[0m\u001b[0;34m\u001b[0m\u001b[0m\n\u001b[1;32m      5\u001b[0m \u001b[0mprint\u001b[0m\u001b[0;34m(\u001b[0m\u001b[0mc\u001b[0m\u001b[0;34m)\u001b[0m\u001b[0;34m\u001b[0m\u001b[0m\n\u001b[0;32m----> 6\u001b[0;31m \u001b[0mprint\u001b[0m\u001b[0;34m(\u001b[0m\u001b[0ml\u001b[0m\u001b[0;34m[\u001b[0m\u001b[0;34m:\u001b[0m\u001b[0;36m1\u001b[0m\u001b[0;34m,\u001b[0m\u001b[0;36m1\u001b[0m\u001b[0;34m]\u001b[0m\u001b[0;34m)\u001b[0m\u001b[0;34m\u001b[0m\u001b[0m\n\u001b[0m",
      "\u001b[0;31mTypeError\u001b[0m: list indices must be integers or slices, not tuple"
     ]
    }
   ],
   "source": [
    "a = str(23)\n",
    "l = [[1,2,3,4,5],[\"a\",\"b\"],[5,6,7]]\n",
    "b = \"erik\"\n",
    "c = a + b\n",
    "print(c)\n",
    "print(l[:1,1])"
   ]
  },
  {
   "cell_type": "code",
   "execution_count": 120,
   "metadata": {},
   "outputs": [
    {
     "name": "stdout",
     "output_type": "stream",
     "text": [
      "Tenslist sizes: torch.Size([5, 3, 3])\n",
      "tenslist: [tensor([[[ 30,  38,  13],\n",
      "         [ 73,  10,  62],\n",
      "         [ 29,  47,  48]],\n",
      "\n",
      "        [[ 57,  71,  99],\n",
      "         [ 33,  37,  87],\n",
      "         [ 26,   1,  66]],\n",
      "\n",
      "        [[ 23,  15,  84],\n",
      "         [ 92,  87,  98],\n",
      "         [ 17,  31,   3]],\n",
      "\n",
      "        [[ 48,  98,   1],\n",
      "         [ 83,  61,  89],\n",
      "         [ 70,   9,  44]],\n",
      "\n",
      "        [[  9,  27,  18],\n",
      "         [ 67,  45,  74],\n",
      "         [ 42,   7,   2]]]), tensor([[[ 30,  38,  13],\n",
      "         [ 73,  10,  62],\n",
      "         [ 29,  47,  48]],\n",
      "\n",
      "        [[ 57,  71,  99],\n",
      "         [ 33,  37,  87],\n",
      "         [ 26,   1,  66]],\n",
      "\n",
      "        [[ 23,  15,  84],\n",
      "         [ 92,  87,  98],\n",
      "         [ 17,  31,   3]],\n",
      "\n",
      "        [[ 48,  98,   1],\n",
      "         [ 83,  61,  89],\n",
      "         [ 70,   9,  44]],\n",
      "\n",
      "        [[  9,  27,  18],\n",
      "         [ 67,  45,  74],\n",
      "         [ 42,   7,   2]]])]\n",
      "Stacked 1 Size: torch.Size([5, 3, 3, 2])\n",
      "Stacked: tensor([[[[ 30,  30],\n",
      "          [ 38,  38],\n",
      "          [ 13,  13]],\n",
      "\n",
      "         [[ 73,  73],\n",
      "          [ 10,  10],\n",
      "          [ 62,  62]],\n",
      "\n",
      "         [[ 29,  29],\n",
      "          [ 47,  47],\n",
      "          [ 48,  48]]],\n",
      "\n",
      "\n",
      "        [[[ 57,  57],\n",
      "          [ 71,  71],\n",
      "          [ 99,  99]],\n",
      "\n",
      "         [[ 33,  33],\n",
      "          [ 37,  37],\n",
      "          [ 87,  87]],\n",
      "\n",
      "         [[ 26,  26],\n",
      "          [  1,   1],\n",
      "          [ 66,  66]]],\n",
      "\n",
      "\n",
      "        [[[ 23,  23],\n",
      "          [ 15,  15],\n",
      "          [ 84,  84]],\n",
      "\n",
      "         [[ 92,  92],\n",
      "          [ 87,  87],\n",
      "          [ 98,  98]],\n",
      "\n",
      "         [[ 17,  17],\n",
      "          [ 31,  31],\n",
      "          [  3,   3]]],\n",
      "\n",
      "\n",
      "        [[[ 48,  48],\n",
      "          [ 98,  98],\n",
      "          [  1,   1]],\n",
      "\n",
      "         [[ 83,  83],\n",
      "          [ 61,  61],\n",
      "          [ 89,  89]],\n",
      "\n",
      "         [[ 70,  70],\n",
      "          [  9,   9],\n",
      "          [ 44,  44]]],\n",
      "\n",
      "\n",
      "        [[[  9,   9],\n",
      "          [ 27,  27],\n",
      "          [ 18,  18]],\n",
      "\n",
      "         [[ 67,  67],\n",
      "          [ 45,  45],\n",
      "          [ 74,  74]],\n",
      "\n",
      "         [[ 42,  42],\n",
      "          [  7,   7],\n",
      "          [  2,   2]]]])\n",
      "torch.Size([1, 2, 5, 3, 3])\n",
      "tensor([[[[[ 73,  10,  62],\n",
      "           [ 29,  47,  48],\n",
      "           [ 73,   4,  54]],\n",
      "\n",
      "          [[ 33,  37,  87],\n",
      "           [ 26,   1,  66],\n",
      "           [ 66,  53,  38]],\n",
      "\n",
      "          [[ 92,  87,  98],\n",
      "           [ 17,  31,   3],\n",
      "           [ 91,  49,  74]],\n",
      "\n",
      "          [[ 83,  61,  89],\n",
      "           [ 70,   9,  44],\n",
      "           [  1,  60,  14]],\n",
      "\n",
      "          [[ 67,  45,  74],\n",
      "           [ 42,   7,   2],\n",
      "           [ 81,  53,  54]]],\n",
      "\n",
      "\n",
      "         [[[ 81,  14,   3],\n",
      "           [ 52,  66,  69],\n",
      "           [  9,  51,   5]],\n",
      "\n",
      "          [[  8,  44,  52],\n",
      "           [ 31,  64,  70],\n",
      "           [ 78,  27,  58]],\n",
      "\n",
      "          [[ 71,   1,  60],\n",
      "           [ 74,  25,  26],\n",
      "           [ 39,  36,  73]],\n",
      "\n",
      "          [[ 56,  37,  32],\n",
      "           [ 53,  36,  65],\n",
      "           [  9,  14,  98]],\n",
      "\n",
      "          [[ 15,  37,  89],\n",
      "           [  9,  76,  94],\n",
      "           [ 78,  65,  14]]]]])\n",
      "Split: [tensor([[[[[ 73,  10,  62],\n",
      "           [ 29,  47,  48],\n",
      "           [ 73,   4,  54]],\n",
      "\n",
      "          [[ 33,  37,  87],\n",
      "           [ 26,   1,  66],\n",
      "           [ 66,  53,  38]],\n",
      "\n",
      "          [[ 92,  87,  98],\n",
      "           [ 17,  31,   3],\n",
      "           [ 91,  49,  74]],\n",
      "\n",
      "          [[ 83,  61,  89],\n",
      "           [ 70,   9,  44],\n",
      "           [  1,  60,  14]],\n",
      "\n",
      "          [[ 67,  45,  74],\n",
      "           [ 42,   7,   2],\n",
      "           [ 81,  53,  54]]]]]), tensor([[[[[ 81,  14,   3],\n",
      "           [ 52,  66,  69],\n",
      "           [  9,  51,   5]],\n",
      "\n",
      "          [[  8,  44,  52],\n",
      "           [ 31,  64,  70],\n",
      "           [ 78,  27,  58]],\n",
      "\n",
      "          [[ 71,   1,  60],\n",
      "           [ 74,  25,  26],\n",
      "           [ 39,  36,  73]],\n",
      "\n",
      "          [[ 56,  37,  32],\n",
      "           [ 53,  36,  65],\n",
      "           [  9,  14,  98]],\n",
      "\n",
      "          [[ 15,  37,  89],\n",
      "           [  9,  76,  94],\n",
      "           [ 78,  65,  14]]]]])]\n",
      "Stacked: tensor([[[[ 73,  81],\n",
      "          [ 10,  14],\n",
      "          [ 62,   3]],\n",
      "\n",
      "         [[ 29,  52],\n",
      "          [ 47,  66],\n",
      "          [ 48,  69]],\n",
      "\n",
      "         [[ 73,   9],\n",
      "          [  4,  51],\n",
      "          [ 54,   5]]],\n",
      "\n",
      "\n",
      "        [[[ 33,   8],\n",
      "          [ 37,  44],\n",
      "          [ 87,  52]],\n",
      "\n",
      "         [[ 26,  31],\n",
      "          [  1,  64],\n",
      "          [ 66,  70]],\n",
      "\n",
      "         [[ 66,  78],\n",
      "          [ 53,  27],\n",
      "          [ 38,  58]]],\n",
      "\n",
      "\n",
      "        [[[ 92,  71],\n",
      "          [ 87,   1],\n",
      "          [ 98,  60]],\n",
      "\n",
      "         [[ 17,  74],\n",
      "          [ 31,  25],\n",
      "          [  3,  26]],\n",
      "\n",
      "         [[ 91,  39],\n",
      "          [ 49,  36],\n",
      "          [ 74,  73]]],\n",
      "\n",
      "\n",
      "        [[[ 83,  56],\n",
      "          [ 61,  37],\n",
      "          [ 89,  32]],\n",
      "\n",
      "         [[ 70,  53],\n",
      "          [  9,  36],\n",
      "          [ 44,  65]],\n",
      "\n",
      "         [[  1,   9],\n",
      "          [ 60,  14],\n",
      "          [ 14,  98]]],\n",
      "\n",
      "\n",
      "        [[[ 67,  15],\n",
      "          [ 45,  37],\n",
      "          [ 74,  89]],\n",
      "\n",
      "         [[ 42,   9],\n",
      "          [  7,  76],\n",
      "          [  2,  94]],\n",
      "\n",
      "         [[ 81,  78],\n",
      "          [ 53,  65],\n",
      "          [ 54,  14]]]])\n",
      "Stacked size: torch.Size([5, 3, 3, 2])\n",
      "ex_tens view: tensor([[[ 73,  10],\n",
      "         [ 62,  29],\n",
      "         [ 47,  48],\n",
      "         [ 73,   4],\n",
      "         [ 54,  33],\n",
      "         [ 37,  87],\n",
      "         [ 26,   1],\n",
      "         [ 66,  66],\n",
      "         [ 53,  38],\n",
      "         [ 92,  87],\n",
      "         [ 98,  17],\n",
      "         [ 31,   3],\n",
      "         [ 91,  49],\n",
      "         [ 74,  83],\n",
      "         [ 61,  89],\n",
      "         [ 70,   9],\n",
      "         [ 44,   1],\n",
      "         [ 60,  14],\n",
      "         [ 67,  45],\n",
      "         [ 74,  42],\n",
      "         [  7,   2],\n",
      "         [ 81,  53],\n",
      "         [ 54,  81],\n",
      "         [ 14,   3],\n",
      "         [ 52,  66],\n",
      "         [ 69,   9],\n",
      "         [ 51,   5],\n",
      "         [  8,  44],\n",
      "         [ 52,  31],\n",
      "         [ 64,  70],\n",
      "         [ 78,  27],\n",
      "         [ 58,  71],\n",
      "         [  1,  60],\n",
      "         [ 74,  25],\n",
      "         [ 26,  39],\n",
      "         [ 36,  73],\n",
      "         [ 56,  37],\n",
      "         [ 32,  53],\n",
      "         [ 36,  65],\n",
      "         [  9,  14],\n",
      "         [ 98,  15],\n",
      "         [ 37,  89],\n",
      "         [  9,  76],\n",
      "         [ 94,  78],\n",
      "         [ 65,  14]]])\n",
      "stacked view: tensor([[[ 73,  81],\n",
      "         [ 10,  14],\n",
      "         [ 62,   3],\n",
      "         [ 29,  52],\n",
      "         [ 47,  66],\n",
      "         [ 48,  69],\n",
      "         [ 73,   9],\n",
      "         [  4,  51],\n",
      "         [ 54,   5],\n",
      "         [ 33,   8],\n",
      "         [ 37,  44],\n",
      "         [ 87,  52],\n",
      "         [ 26,  31],\n",
      "         [  1,  64],\n",
      "         [ 66,  70],\n",
      "         [ 66,  78],\n",
      "         [ 53,  27],\n",
      "         [ 38,  58],\n",
      "         [ 92,  71],\n",
      "         [ 87,   1],\n",
      "         [ 98,  60],\n",
      "         [ 17,  74],\n",
      "         [ 31,  25],\n",
      "         [  3,  26],\n",
      "         [ 91,  39],\n",
      "         [ 49,  36],\n",
      "         [ 74,  73],\n",
      "         [ 83,  56],\n",
      "         [ 61,  37],\n",
      "         [ 89,  32],\n",
      "         [ 70,  53],\n",
      "         [  9,  36],\n",
      "         [ 44,  65],\n",
      "         [  1,   9],\n",
      "         [ 60,  14],\n",
      "         [ 14,  98],\n",
      "         [ 67,  15],\n",
      "         [ 45,  37],\n",
      "         [ 74,  89],\n",
      "         [ 42,   9],\n",
      "         [  7,  76],\n",
      "         [  2,  94],\n",
      "         [ 81,  78],\n",
      "         [ 53,  65],\n",
      "         [ 54,  14]]])\n",
      "Stacked 1 view: tensor([[[ 30,  30],\n",
      "         [ 38,  38],\n",
      "         [ 13,  13],\n",
      "         [ 73,  73],\n",
      "         [ 10,  10],\n",
      "         [ 62,  62],\n",
      "         [ 29,  29],\n",
      "         [ 47,  47],\n",
      "         [ 48,  48],\n",
      "         [ 57,  57],\n",
      "         [ 71,  71],\n",
      "         [ 99,  99],\n",
      "         [ 33,  33],\n",
      "         [ 37,  37],\n",
      "         [ 87,  87],\n",
      "         [ 26,  26],\n",
      "         [  1,   1],\n",
      "         [ 66,  66],\n",
      "         [ 23,  23],\n",
      "         [ 15,  15],\n",
      "         [ 84,  84],\n",
      "         [ 92,  92],\n",
      "         [ 87,  87],\n",
      "         [ 98,  98],\n",
      "         [ 17,  17],\n",
      "         [ 31,  31],\n",
      "         [  3,   3],\n",
      "         [ 48,  48],\n",
      "         [ 98,  98],\n",
      "         [  1,   1],\n",
      "         [ 83,  83],\n",
      "         [ 61,  61],\n",
      "         [ 89,  89],\n",
      "         [ 70,  70],\n",
      "         [  9,   9],\n",
      "         [ 44,  44],\n",
      "         [  9,   9],\n",
      "         [ 27,  27],\n",
      "         [ 18,  18],\n",
      "         [ 67,  67],\n",
      "         [ 45,  45],\n",
      "         [ 74,  74],\n",
      "         [ 42,  42],\n",
      "         [  7,   7],\n",
      "         [  2,   2]]])\n"
     ]
    }
   ],
   "source": [
    "def util_random_tens(tup):   \n",
    "    class Inner(): \n",
    "        no = 2        \n",
    "        def __init__():\n",
    "            pass           \n",
    "            \n",
    "        @staticmethod\n",
    "        def aux_inner(tup,no_call=5):\n",
    "            \n",
    "            if len(tup) == 1:\n",
    "                Inner.no += 1\n",
    "                s = no_call            \n",
    "                random.seed(s)\n",
    "                rand_list = random.sample(range(0,100),tup[0])            \n",
    "                return rand_list        \n",
    "            else:\n",
    "                l = []\n",
    "                for i in range(tup[0]):\n",
    "                    Inner.no += 1\n",
    "                    no_call += 1\n",
    "                    l.append(Inner.aux_inner(tup[1:],no_call=Inner.no))\n",
    "                return l\n",
    "            \n",
    "    \n",
    "    return Inner.aux_inner(tup)\n",
    "        \n",
    "\n",
    "ex_tens = torch.tensor(util_random_tens((1,2,5,3,3)))\n",
    "tensList = [torch.tensor(util_random_tens((5,3,3)))] * 2\n",
    "print(\"Tenslist sizes:\",tensList[0].size())\n",
    "print(\"tenslist:\",tensList)\n",
    "stacked1 = torch.stack(tensList,3)\n",
    "print(\"Stacked 1 Size:\",stacked1.size())\n",
    "print(\"Stacked:\",stacked1)\n",
    "print(ex_tens.size())\n",
    "print(ex_tens)\n",
    "split = list(torch.split(ex_tens,int(ex_tens.size(1)/ex_tens.size(1)),dim=1))\n",
    "print(\"Split:\",split)\n",
    "stacked = torch.stack(split,5).squeeze()name\n",
    "print(\"Stacked:\",stacked)\n",
    "\n",
    "print(\"Stacked size:\",stacked.size())\n",
    "print(\"ex_tens view:\",ex_tens.view(1,45,-1))\n",
    "print(\"stacked view:\",stacked.view(1,45,-1))\n",
    "print(\"Stacked 1 view:\",stacked1.view(1,45,-1))\n",
    "        \n"
   ]
  },
  {
   "cell_type": "markdown",
   "metadata": {},
   "source": [
    "Demonstration of dimensions"
   ]
  },
  {
   "cell_type": "code",
   "execution_count": 127,
   "metadata": {},
   "outputs": [
    {
     "name": "stdout",
     "output_type": "stream",
     "text": [
      "tensor([[[[ 0.9795,  0.0437],\n",
      "          [ 0.6934,  0.3181],\n",
      "          [ 0.1216,  0.8136]],\n",
      "\n",
      "         [[ 0.6256,  0.9458],\n",
      "          [ 0.6875,  0.5891],\n",
      "          [ 0.2683,  0.5889]],\n",
      "\n",
      "         [[ 0.4347,  0.4364],\n",
      "          [ 0.6285,  0.8506],\n",
      "          [ 0.6217,  0.1045]],\n",
      "\n",
      "         [[ 0.4277,  0.5513],\n",
      "          [ 0.1635,  0.0882],\n",
      "          [ 0.1174,  0.1637]],\n",
      "\n",
      "         [[ 0.1236,  0.2208],\n",
      "          [ 0.2796,  0.9796],\n",
      "          [ 0.3950,  0.8690]]]])\n",
      "Size: torch.Size([1, 5, 3, 2])\n",
      "tensor([[[ 0.9795,  0.0437],\n",
      "         [ 0.6256,  0.9458]]])\n"
     ]
    }
   ],
   "source": [
    "sh = torch.rand(1,5,3,2)\n",
    "print(sh)\n",
    "print(\"Size:\", sh.size())\n",
    "print(sh[:,:2,0])"
   ]
  },
  {
   "cell_type": "code",
   "execution_count": 30,
   "metadata": {
    "scrolled": true
   },
   "outputs": [
    {
     "name": "stdout",
     "output_type": "stream",
     "text": [
      "tensor([[ 0.4439,  0.4826,  0.7466],\n",
      "        [ 0.5812,  0.9706,  0.9643],\n",
      "        [ 0.3979,  0.4532,  0.1923],\n",
      "        [ 0.2714,  0.1722,  0.5221],\n",
      "        [ 0.7439,  0.9141,  0.5705]])\n",
      "tensor([[ 0,  0,  0,  0,  0],\n",
      "        [ 0,  0,  0,  0,  0],\n",
      "        [ 0,  0,  0,  0,  0]])\n",
      "tensor(0.9706)\n"
     ]
    }
   ],
   "source": [
    "x = torch.rand(5,3)\n",
    "zeros = torch.zeros(3,5,dtype = torch.long)\n",
    "print(x)\n",
    "print(zeros)\n",
    "print(torch.max(x))"
   ]
  },
  {
   "cell_type": "markdown",
   "metadata": {},
   "source": [
    "Initializing tensors directly from data and priting its size\n"
   ]
  },
  {
   "cell_type": "code",
   "execution_count": 31,
   "metadata": {},
   "outputs": [
    {
     "name": "stdout",
     "output_type": "stream",
     "text": [
      "tensor([[ 1,  2,  3],\n",
      "        [ 4,  5,  6]])\n",
      "True\n",
      "tensor([[ 8,  7,  6],\n",
      "        [ 5,  4,  3]])\n"
     ]
    }
   ],
   "source": [
    "data = [[1,2,3],[4,5,6]]\n",
    "data_t = torch.tensor(data)\n",
    "print(data_t)\n",
    "print(data_t.size() == torch.Size([2,3]))\n",
    "print(9-data_t)\n",
    "print()"
   ]
  },
  {
   "cell_type": "markdown",
   "metadata": {},
   "source": [
    "### Eye ###"
   ]
  },
  {
   "cell_type": "code",
   "execution_count": 29,
   "metadata": {},
   "outputs": [
    {
     "name": "stdout",
     "output_type": "stream",
     "text": [
      "tensor([[ 1.,  0.,  0.],\n",
      "        [ 0.,  1.,  0.],\n",
      "        [ 0.,  0.,  1.]])\n",
      "tensor([[[ 1.],\n",
      "         [ 0.],\n",
      "         [ 0.]],\n",
      "\n",
      "        [[ 0.],\n",
      "         [ 1.],\n",
      "         [ 0.]],\n",
      "\n",
      "        [[ 0.],\n",
      "         [ 0.],\n",
      "         [ 1.]]])\n",
      "3\n"
     ]
    }
   ],
   "source": [
    "eye = torch.eye(3)\n",
    "print(eye)\n",
    "print(eye[:,:,None])\n"
   ]
  },
  {
   "cell_type": "markdown",
   "metadata": {},
   "source": [
    "### Arithmetic operations"
   ]
  },
  {
   "cell_type": "code",
   "execution_count": 29,
   "metadata": {
    "scrolled": true
   },
   "outputs": [
    {
     "name": "stdout",
     "output_type": "stream",
     "text": [
      "Resutl of matrix multiply 1: \n",
      " tensor([[ 14.,  13.]], dtype=torch.float64)\n",
      "Normal multiply:\n",
      "\n",
      "tensor([[ 2.,  6.],\n",
      "        [ 8.,  9.]], dtype=torch.float64)\n",
      "Square root and sum: \n",
      "\n",
      "tensor([ 5.,  5.], dtype=torch.float64)\n",
      "Two different transposes\n",
      "Original dim: torch.Size([1, 2, 3])\n",
      "tensor([[[  5,   6,   7]],\n",
      "\n",
      "        [[ 20,  21,  22]]])\n",
      "torch.Size([2, 1, 3])\n",
      "tensor([[[  5],\n",
      "         [ 20]],\n",
      "\n",
      "        [[  6],\n",
      "         [ 21]],\n",
      "\n",
      "        [[  7],\n",
      "         [ 22]]])\n",
      "torch.Size([3, 2, 1])\n",
      "trans1.t()\n",
      "tensor([[  1,  10],\n",
      "        [  2,  11],\n",
      "        [  3,  13]])\n",
      "\n",
      "\n",
      "\n",
      "Matrix multiply:\n",
      "tensor([[  38,  128],\n",
      "        [ 207,  717]])\n",
      "Addition normal\n",
      "tensor([[  6,   8,  10],\n",
      "        [ 30,  32,  35]])\n",
      "Addition with pytorch function\n",
      "tensor([[  6,   8,  10],\n",
      "        [ 30,  32,  35]])\n",
      "Addition with providing output tensor\n",
      "tensor([[  6,   8,  10],\n",
      "        [ 30,  32,  35]])\n",
      "Addition in place (x is changed in this example)\n",
      "tensor([[  6,   8,  10],\n",
      "        [ 30,  32,  35]])\n"
     ]
    }
   ],
   "source": [
    "x = torch.tensor([[1,2,3],[10,11,13]])\n",
    "y = torch.tensor([[5,6,7],[20,21,22]])\n",
    "trans = torch.tensor([[[5,6,7],[20,21,22]]])\n",
    "trans1 = torch.tensor([[1,2,3],[10,11,13]])\n",
    "mm1 = torch.tensor([[1,2],[4,3]]).double()\n",
    "mm2 = torch.tensor([[2,3]]).double()\n",
    "mmmm = torch.matmul(mm2,mm1)\n",
    "print(\"Resutl of matrix multiply 1: \\n\",mmmm)\n",
    "\n",
    "\n",
    "print(\"Normal multiply:\\n\")\n",
    "print(mm1*mm2)\n",
    "\n",
    "print(\"Square root and sum: \\n\")\n",
    "z = torch.sqrt(mm1**2).sum(-2)\n",
    "print(z)\n",
    "\n",
    "print(\"Two different transposes\")\n",
    "print(\"Original dim: {}\".format(trans.size()))\n",
    "print(trans.transpose(0,1))\n",
    "print(trans.transpose(0,1).size())\n",
    "print(trans.transpose(2,0))\n",
    "print(trans.transpose(2,0).size())\n",
    "print(\"trans1.t()\")\n",
    "print(trans1.t())\n",
    "print(\"\\n\\n\")\n",
    "\n",
    "print(\"Matrix multiply:\")\n",
    "print(x.mm(y.transpose(0,1)))\n",
    "\n",
    "print(\"Addition normal\")\n",
    "print(x+y)\n",
    "\n",
    "print(\"Addition with pytorch function\")\n",
    "print(torch.add(x,y))\n",
    "\n",
    "print(\"Addition with providing output tensor\")\n",
    "result = torch.zeros(2,3, dtype = torch.long)\n",
    "torch.add(x,y,out=result)\n",
    "print(result)\n",
    "\n",
    "print(\"Addition in place (x is changed in this example)\")\n",
    "x.add_(y)\n",
    "print(x)\n"
   ]
  },
  {
   "cell_type": "markdown",
   "metadata": {},
   "source": [
    "__NOTE:__ Operations that mutate a tensor in place are post ficed with \"_\""
   ]
  },
  {
   "cell_type": "markdown",
   "metadata": {},
   "source": [
    "### Addressing elements in tensor"
   ]
  },
  {
   "cell_type": "code",
   "execution_count": 71,
   "metadata": {},
   "outputs": [
    {
     "name": "stdout",
     "output_type": "stream",
     "text": [
      "tensor([[ 0.2587,  0.6451,  0.4262,  0.4482],\n",
      "        [ 0.4279,  0.7340,  0.0909,  0.3557],\n",
      "        [ 0.8988,  0.3604,  0.7420,  0.6601],\n",
      "        [ 0.9830,  0.1302,  0.7470,  0.7972],\n",
      "        [ 0.3061,  0.2687,  0.5608,  0.5939],\n",
      "        [ 0.4654,  0.0722,  0.2099,  0.4110],\n",
      "        [ 0.1090,  0.5451,  0.1950,  0.5889]])\n",
      "Column 0\n",
      "tensor([ 0.2587,  0.4279,  0.8988,  0.9830,  0.3061,  0.4654,  0.1090])\n",
      "Row 0\n",
      "tensor([ 0.2587,  0.6451,  0.4262,  0.4482])\n",
      "Second and third row and second and third column\n",
      "tensor([[ 0.7340,  0.0909],\n",
      "        [ 0.3604,  0.7420]])\n"
     ]
    }
   ],
   "source": [
    "rn = torch.rand(7,4)\n",
    "print(rn)\n",
    "print(\"Column 0\")\n",
    "print(rn[:,0])\n",
    "print(\"Row 0\")\n",
    "print(rn[0,:])\n",
    "print(\"Second and third row and second and third column\")\n",
    "print(rn[1:3,1:3])"
   ]
  },
  {
   "cell_type": "markdown",
   "metadata": {},
   "source": [
    "### Resizing torch tensors"
   ]
  },
  {
   "cell_type": "code",
   "execution_count": 72,
   "metadata": {},
   "outputs": [
    {
     "name": "stdout",
     "output_type": "stream",
     "text": [
      "torch.Size([4, 4]) \n",
      " tensor([[-0.5736,  0.8739,  1.1581, -0.4651],\n",
      "        [-1.2898, -2.0091,  0.0448, -0.7776],\n",
      "        [ 0.2598,  0.6121,  0.4177,  0.5769],\n",
      "        [ 0.5912,  0.5000,  2.4781,  0.4546]])\n",
      "torch.Size([16]) \n",
      " tensor([-0.5736,  0.8739,  1.1581, -0.4651, -1.2898, -2.0091,  0.0448,\n",
      "        -0.7776,  0.2598,  0.6121,  0.4177,  0.5769,  0.5912,  0.5000,\n",
      "         2.4781,  0.4546])\n",
      "torch.Size([2, 8]) \n",
      " tensor([[-0.5736,  0.8739,  1.1581, -0.4651, -1.2898, -2.0091,  0.0448,\n",
      "         -0.7776],\n",
      "        [ 0.2598,  0.6121,  0.4177,  0.5769,  0.5912,  0.5000,  2.4781,\n",
      "          0.4546]])\n",
      "torch.Size([1, 16]) \n",
      " tensor([[-0.5736,  0.8739,  1.1581, -0.4651, -1.2898, -2.0091,  0.0448,\n",
      "         -0.7776,  0.2598,  0.6121,  0.4177,  0.5769,  0.5912,  0.5000,\n",
      "          2.4781,  0.4546]])\n"
     ]
    }
   ],
   "source": [
    "x = torch.randn(4, 4)\n",
    "y = x.view(16)\n",
    "z = x.view(-1, 8)  # the size -1 is inferred from other dimensions\n",
    "v = x.view(1,-1)\n",
    "print(x.size(),\"\\n\",x)\n",
    "print(y.size(),\"\\n\",y)\n",
    "print(z.size(),\"\\n\",z)\n",
    "print(v.size(),\"\\n\",v)\n"
   ]
  },
  {
   "cell_type": "markdown",
   "metadata": {},
   "source": [
    "## Stacking Tensors ##"
   ]
  },
  {
   "cell_type": "code",
   "execution_count": 135,
   "metadata": {},
   "outputs": [
    {
     "name": "stdout",
     "output_type": "stream",
     "text": [
      "tensor([[[ 0.2574,  0.3589,  0.2550,  0.0728],\n",
      "         [ 0.6585,  0.1817,  0.2356,  0.6970],\n",
      "         [ 0.7150,  0.0318,  0.9021,  0.9439]],\n",
      "\n",
      "        [[ 0.6977,  0.5638,  0.4860,  0.2753],\n",
      "         [ 0.2124,  0.6545,  0.7921,  0.1981],\n",
      "         [ 0.0606,  0.8532,  0.7955,  0.3575]]])\n",
      "tensor([[[[[ 0.2574],\n",
      "           [ 0.3589],\n",
      "           [ 0.2550],\n",
      "           [ 0.0728]],\n",
      "\n",
      "          [[ 0.2574],\n",
      "           [ 0.3589],\n",
      "           [ 0.2550],\n",
      "           [ 0.0728]]],\n",
      "\n",
      "\n",
      "         [[[ 0.6585],\n",
      "           [ 0.1817],\n",
      "           [ 0.2356],\n",
      "           [ 0.6970]],\n",
      "\n",
      "          [[ 0.6585],\n",
      "           [ 0.1817],\n",
      "           [ 0.2356],\n",
      "           [ 0.6970]]],\n",
      "\n",
      "\n",
      "         [[[ 0.7150],\n",
      "           [ 0.0318],\n",
      "           [ 0.9021],\n",
      "           [ 0.9439]],\n",
      "\n",
      "          [[ 0.7150],\n",
      "           [ 0.0318],\n",
      "           [ 0.9021],\n",
      "           [ 0.9439]]]],\n",
      "\n",
      "\n",
      "\n",
      "        [[[[ 0.6977],\n",
      "           [ 0.5638],\n",
      "           [ 0.4860],\n",
      "           [ 0.2753]],\n",
      "\n",
      "          [[ 0.6977],\n",
      "           [ 0.5638],\n",
      "           [ 0.4860],\n",
      "           [ 0.2753]]],\n",
      "\n",
      "\n",
      "         [[[ 0.2124],\n",
      "           [ 0.6545],\n",
      "           [ 0.7921],\n",
      "           [ 0.1981]],\n",
      "\n",
      "          [[ 0.2124],\n",
      "           [ 0.6545],\n",
      "           [ 0.7921],\n",
      "           [ 0.1981]]],\n",
      "\n",
      "\n",
      "         [[[ 0.0606],\n",
      "           [ 0.8532],\n",
      "           [ 0.7955],\n",
      "           [ 0.3575]],\n",
      "\n",
      "          [[ 0.0606],\n",
      "           [ 0.8532],\n",
      "           [ 0.7955],\n",
      "           [ 0.3575]]]]])\n"
     ]
    }
   ],
   "source": [
    "d = torch.rand(2,3,4)\n",
    "print(d)\n",
    "stacked = torch.stack([d] * 2,dim=2).unsqueeze(4)\n",
    "print(stacked)"
   ]
  },
  {
   "cell_type": "code",
   "execution_count": 73,
   "metadata": {},
   "outputs": [
    {
     "name": "stdout",
     "output_type": "stream",
     "text": [
      "Tensor 1:\n",
      "tensor([[[[  1,   2],\n",
      "          [  3,   4]]],\n",
      "\n",
      "\n",
      "        [[[  5,   6],\n",
      "          [  7,   8]]],\n",
      "\n",
      "\n",
      "        [[[  9,  10],\n",
      "          [ 11,  12]]]])\n",
      "Tensor 2:\n",
      "tensor([[[[ 11,  22],\n",
      "          [ 33,  44]]],\n",
      "\n",
      "\n",
      "        [[[  1,   2],\n",
      "          [  3,   4]]],\n",
      "\n",
      "\n",
      "        [[[  1,   2],\n",
      "          [  3,   4]]]])\n",
      "------------------\n",
      "Stacked tensors:\n",
      "tensor([[[[[  1,   2],\n",
      "           [  3,   4]]],\n",
      "\n",
      "\n",
      "         [[[ 11,  22],\n",
      "           [ 33,  44]]]],\n",
      "\n",
      "\n",
      "\n",
      "        [[[[  5,   6],\n",
      "           [  7,   8]]],\n",
      "\n",
      "\n",
      "         [[[  1,   2],\n",
      "           [  3,   4]]]],\n",
      "\n",
      "\n",
      "\n",
      "        [[[[  9,  10],\n",
      "           [ 11,  12]]],\n",
      "\n",
      "\n",
      "         [[[  1,   2],\n",
      "           [  3,   4]]]]])\n",
      "Tensor sizes: torch.Size([3, 1, 2, 2])\n",
      "Stacked sizes: torch.Size([3, 2, 1, 2, 2])\n"
     ]
    }
   ],
   "source": [
    "stack1 = tens = torch.tensor([[[[1,2],[3,4]]],[[[5,6],[7,8]]],[[[9,10],[11,12]]]])\n",
    "stack2 = tens = torch.tensor([[[[11,22],[33,44]]],[[[1,2],[3,4]]],[[[1,2],[3,4]]]])\n",
    "ls = [stack1, stack2]\n",
    "print(\"Tensor 1:\")\n",
    "print(stack1)\n",
    "print(\"Tensor 2:\")\n",
    "print(stack2)\n",
    "print(\"------------------\")\n",
    "print(\"Stacked tensors:\")\n",
    "stacked = torch.stack(ls,1) \n",
    "print(stacked)\n",
    "print(\"Tensor sizes:\",stack1.size())\n",
    "print(\"Stacked sizes:\",stacked.size())"
   ]
  },
  {
   "cell_type": "markdown",
   "metadata": {},
   "source": [
    "## Some Soft Max understanding ##"
   ]
  },
  {
   "cell_type": "code",
   "execution_count": 24,
   "metadata": {},
   "outputs": [
    {
     "name": "stdout",
     "output_type": "stream",
     "text": [
      "tensor([[[ 0.],\n",
      "         [ 0.],\n",
      "         [ 0.]],\n",
      "\n",
      "        [[ 0.],\n",
      "         [ 0.],\n",
      "         [ 0.]]])\n",
      "tensor([[[ 0.1192],\n",
      "         [ 0.1192]],\n",
      "\n",
      "        [[ 0.8808],\n",
      "         [ 0.8808]]])\n",
      "tensor([ 0.0321,  0.0871,  0.2369,  0.6439])\n"
     ]
    }
   ],
   "source": [
    "te1 = torch.zeros([2,3,1])\n",
    "te2 = torch.zeros([2,2])\n",
    "exmpl1 = torch.tensor([[[1],[2]],[[3],[4]]],dtype=torch.float)\n",
    "exml2 = torch.tensor([1,2,3,4], dtype=torch.float)\n",
    "print(te1)\n",
    "softmax = F.softmax(exmpl1,dim = 0)\n",
    "sm2 = F.softmax(exml2,dim=0)\n",
    "print(softmax)\n",
    "print(sm2)"
   ]
  },
  {
   "cell_type": "markdown",
   "metadata": {},
   "source": [
    "### Squashing function ###"
   ]
  },
  {
   "cell_type": "code",
   "execution_count": 38,
   "metadata": {},
   "outputs": [
    {
     "name": "stdout",
     "output_type": "stream",
     "text": [
      "torch.Size([2, 3, 3])\n",
      "tensor([[[  5.,   4.,   9.]],\n",
      "\n",
      "        [[ 50.,  40.,  90.]]], dtype=torch.float64)\n",
      "tensor([[[ 2.2361,  2.0000,  3.0000]],\n",
      "\n",
      "        [[ 7.0711,  6.3246,  9.4868]]], dtype=torch.float64)\n",
      "tensor([[[ 0.4105,  0.8889,  0.9643],\n",
      "         [ 0.8210,  0.4444,  0.9643],\n",
      "         [ 0.8210,  0.4444,  0.9643]],\n",
      "\n",
      "        [[ 1.4102,  3.1498,  3.1586],\n",
      "         [ 2.8204,  1.5749,  3.1586],\n",
      "         [ 2.8204,  1.5749,  3.1586]]], dtype=torch.float64)\n"
     ]
    },
    {
     "ename": "RuntimeError",
     "evalue": "The size of tensor a (2) must match the size of tensor b (3) at non-singleton dimension 1",
     "output_type": "error",
     "traceback": [
      "\u001b[0;31m---------------------------------------------------------------------------\u001b[0m",
      "\u001b[0;31mRuntimeError\u001b[0m                              Traceback (most recent call last)",
      "\u001b[0;32m<ipython-input-40-269ebbe3c89c>\u001b[0m in \u001b[0;36m<module>\u001b[0;34m()\u001b[0m\n\u001b[1;32m      3\u001b[0m \u001b[0mCapsSquareNorm\u001b[0m \u001b[0;34m=\u001b[0m \u001b[0;34m(\u001b[0m\u001b[0mtens\u001b[0m\u001b[0;34m**\u001b[0m\u001b[0;36m2\u001b[0m\u001b[0;34m)\u001b[0m\u001b[0;34m.\u001b[0m\u001b[0msum\u001b[0m\u001b[0;34m(\u001b[0m\u001b[0;34m-\u001b[0m\u001b[0;36m1\u001b[0m\u001b[0;34m,\u001b[0m\u001b[0mkeepdim\u001b[0m\u001b[0;34m=\u001b[0m\u001b[0;32mFalse\u001b[0m\u001b[0;34m)\u001b[0m\u001b[0;34m\u001b[0m\u001b[0m\n\u001b[1;32m      4\u001b[0m \u001b[0mCapsSum\u001b[0m \u001b[0;34m=\u001b[0m \u001b[0mtorch\u001b[0m\u001b[0;34m.\u001b[0m\u001b[0msqrt\u001b[0m\u001b[0;34m(\u001b[0m\u001b[0mCapsSquareNorm\u001b[0m\u001b[0;34m)\u001b[0m\u001b[0;34m\u001b[0m\u001b[0m\n\u001b[0;32m----> 5\u001b[0;31m \u001b[0mCapsOut\u001b[0m \u001b[0;34m=\u001b[0m \u001b[0mCapsSquareNorm\u001b[0m\u001b[0;34m*\u001b[0m\u001b[0mtens\u001b[0m\u001b[0;34m/\u001b[0m\u001b[0;34m(\u001b[0m\u001b[0;36m1\u001b[0m\u001b[0;34m+\u001b[0m\u001b[0mCapsSquareNorm\u001b[0m\u001b[0;34m*\u001b[0m\u001b[0mCapsSum\u001b[0m\u001b[0;34m)\u001b[0m\u001b[0;34m\u001b[0m\u001b[0m\n\u001b[0m\u001b[1;32m      6\u001b[0m \u001b[0;34m\u001b[0m\u001b[0m\n\u001b[1;32m      7\u001b[0m \u001b[0mprint\u001b[0m\u001b[0;34m(\u001b[0m\u001b[0mCapsSquareNorm\u001b[0m\u001b[0;34m)\u001b[0m\u001b[0;34m\u001b[0m\u001b[0m\n",
      "\u001b[0;31mRuntimeError\u001b[0m: The size of tensor a (2) must match the size of tensor b (3) at non-singleton dimension 1"
     ]
    }
   ],
   "source": [
    "tens = torch.tensor([[[1,2,3],[2,1,3],[2,1,3]],[[10,20,30],[20,10,30],[20,10,30]]]).double()\n",
    "print(tens.size())\n",
    "CapsSquareNorm = tens.sum(1,keepdim=True)\n",
    "CapsSum = torch.sqrt(CapsSquareNorm)\n",
    "CapsOut = CapsSquareNorm*tens/(1+CapsSquareNorm*CapsSum)\n",
    "\n",
    "print(CapsSquareNorm)\n",
    "print(CapsSum)\n",
    "print(CapsOut)"
   ]
  },
  {
   "cell_type": "markdown",
   "metadata": {},
   "source": [
    "## Matrix multiplications (in batch learning) ##\n",
    "Input data has dimensions `[batch,in,hidden,out]`. Lets say is 1 hidden layer "
   ]
  },
  {
   "cell_type": "code",
   "execution_count": 92,
   "metadata": {},
   "outputs": [
    {
     "name": "stdout",
     "output_type": "stream",
     "text": [
      "tensor([[ 0.1063,  0.1369],\n",
      "        [ 0.7666,  0.7842],\n",
      "        [ 0.4955,  0.6879]], dtype=torch.float64)\n",
      "tensor([[ 2.,  2.,  2.],\n",
      "        [ 5.,  5.,  5.]], dtype=torch.float64)\n",
      "tensor([[  2.,   2.,   2.,   2.,   2.],\n",
      "        [  5.,   5.,   5.,   5.,   5.],\n",
      "        [ 10.,  10.,  10.,  10.,  10.]], dtype=torch.float64)\n",
      "\n",
      "\n",
      "Result of FIRST multiplication:\n",
      "tensor([[ 0.8972,  0.8972,  0.8972],\n",
      "        [ 5.4540,  5.4540,  5.4540],\n",
      "        [ 4.4307,  4.4307,  4.4307]], dtype=torch.float64)\n",
      "\n",
      "\n",
      "Result of SECOND multiplication:\n",
      "tensor([[ 15.2529,  15.2529,  15.2529,  15.2529,  15.2529],\n",
      "        [ 92.7180,  92.7180,  92.7180,  92.7180,  92.7180],\n",
      "        [ 75.3217,  75.3217,  75.3217,  75.3217,  75.3217]], dtype=torch.float64)\n"
     ]
    }
   ],
   "source": [
    "data = torch.rand(3,2).double()\n",
    "print(data)\n",
    "weight_matrix1 = torch.tensor([[2,2,2],[5,5,5]]).double()\n",
    "print(weight_matrix1)\n",
    "weight_matrix2 = torch.tensor([[2,2,2,2,2],[5,5,5,5,5],[10,10,10,10,10]]).double()\n",
    "print(weight_matrix2)\n",
    "prod1 = data.mm(weight_matrix1)\n",
    "prod2 = prod1.mm(weight_matrix2)\n",
    "print(\"\\n\\nResult of FIRST multiplication:\")\n",
    "print(prod1)\n",
    "print(\"\\n\\nResult of SECOND multiplication:\")\n",
    "print(prod2)"
   ]
  },
  {
   "cell_type": "markdown",
   "metadata": {},
   "source": [
    "## Autograd and gradients"
   ]
  },
  {
   "cell_type": "code",
   "execution_count": 75,
   "metadata": {},
   "outputs": [
    {
     "name": "stdout",
     "output_type": "stream",
     "text": [
      "tensor([[ 1.,  1.,  1.],\n",
      "        [ 1.,  1.,  1.]])\n"
     ]
    }
   ],
   "source": [
    "x1 = torch.ones(2, 3, requires_grad=True)\n",
    "print(x1)"
   ]
  },
  {
   "cell_type": "markdown",
   "metadata": {},
   "source": [
    "Doing an operation on a tensor:"
   ]
  },
  {
   "cell_type": "code",
   "execution_count": 77,
   "metadata": {},
   "outputs": [
    {
     "name": "stdout",
     "output_type": "stream",
     "text": [
      "tensor([[ 3.,  3.,  3.],\n",
      "        [ 3.,  3.,  3.]])\n",
      "None\n",
      "<AddBackward0 object at 0x7f90bd07bac8>\n"
     ]
    }
   ],
   "source": [
    "y1 = x1 + 2\n",
    "print(y1)\n",
    "print(y1.grad_fn)"
   ]
  },
  {
   "cell_type": "markdown",
   "metadata": {},
   "source": [
    "y is a result of a function thus it has a __.grad_fn__ attribute which specifies the which function it is result of."
   ]
  },
  {
   "cell_type": "code",
   "execution_count": 78,
   "metadata": {},
   "outputs": [
    {
     "name": "stdout",
     "output_type": "stream",
     "text": [
      "tensor([[ 27.,  27.,  27.],\n",
      "        [ 27.,  27.,  27.]])\n",
      "<MulBackward0 object at 0x7f90bd07b518>\n",
      "tensor(27.)\n"
     ]
    }
   ],
   "source": [
    "z1 = y1 * y1 * 3\n",
    "out = z1.mean()\n",
    "\n",
    "print(z1)\n",
    "print(z1.grad_fn)\n",
    "print(out)"
   ]
  },
  {
   "cell_type": "markdown",
   "metadata": {},
   "source": [
    "Geting gradients of __out__ :"
   ]
  },
  {
   "cell_type": "code",
   "execution_count": 10,
   "metadata": {
    "scrolled": true
   },
   "outputs": [
    {
     "name": "stdout",
     "output_type": "stream",
     "text": [
      "tensor([[ 3.,  3.,  3.],\n",
      "        [ 3.,  3.,  3.]])\n"
     ]
    }
   ],
   "source": [
    "out.backward(retain_graph = False)\n",
    "print(x1.grad)"
   ]
  },
  {
   "cell_type": "code",
   "execution_count": 6,
   "metadata": {},
   "outputs": [
    {
     "name": "stdout",
     "output_type": "stream",
     "text": [
      "tensor([-1.1275,  0.2828, -0.1401])\n",
      "tensor([-1154.5289,   289.5901,  -143.4415])\n"
     ]
    }
   ],
   "source": [
    "x2 = torch.randn(3,requires_grad=True)\n",
    "print(x2)\n",
    "\n",
    "y2 = x2 * 2\n",
    "while y2.data.norm() < 1000:\n",
    "    y2 = y2 * 2\n",
    "\n",
    "print(y2)"
   ]
  },
  {
   "cell_type": "code",
   "execution_count": 12,
   "metadata": {},
   "outputs": [
    {
     "name": "stdout",
     "output_type": "stream",
     "text": [
      "tensor([  102.4000,  1024.0000,     0.1024])\n"
     ]
    }
   ],
   "source": [
    "gradients = torch.tensor([0.1, 1.0, 0.0001], dtype=torch.float)\n",
    "y2.backward(gradients)\n",
    "\n",
    "print(x2.grad)"
   ]
  },
  {
   "cell_type": "markdown",
   "metadata": {},
   "source": [
    "__Example from CS231n__"
   ]
  },
  {
   "cell_type": "code",
   "execution_count": 7,
   "metadata": {},
   "outputs": [
    {
     "name": "stdout",
     "output_type": "stream",
     "text": [
      "tensor(-2., dtype=torch.float64)\n",
      "tensor(6., dtype=torch.float64)\n",
      "tensor(4., dtype=torch.float64)\n",
      "tensor(1., dtype=torch.float64)\n",
      "tensor(-1., dtype=torch.float64)\n",
      "tensor(0.3679, dtype=torch.float64)\n",
      "tensor(1.3679, dtype=torch.float64)\n",
      "tensor(0.7311, dtype=torch.float64)\n",
      "Gradients:\n",
      "tensor([-0.1966, -0.0197], dtype=torch.float64)\n",
      "tensor([ 0.3932,  0.0393], dtype=torch.float64)\n",
      "tensor([-0.3932, -0.0393], dtype=torch.float64)\n",
      "tensor([-0.5898, -0.0590], dtype=torch.float64)\n",
      "tensor([ 0.1966,  0.0197], dtype=torch.float64)\n"
     ]
    }
   ],
   "source": [
    "a1 = torch.tensor(2,requires_grad=True,dtype=torch.float64)\n",
    "b1 = torch.tensor(-1,requires_grad=True,dtype=torch.float64)\n",
    "a2 = torch.tensor(-3,requires_grad=True,dtype=torch.float64)\n",
    "b2 = torch.tensor(-2,requires_grad=True,dtype=torch.float64)\n",
    "c1 = torch.tensor(-3,requires_grad=True,dtype=torch.float64)\n",
    "\n",
    "prod1 = a1 * b1\n",
    "prod2 = a2 * b2\n",
    "print(prod1)\n",
    "print(prod2)\n",
    "\n",
    "sum1 = prod1 + prod2\n",
    "print(sum1)\n",
    "\n",
    "sum2 = sum1 + c1\n",
    "\n",
    "print(sum2)\n",
    "sum2 = sum2 * (-1)\n",
    "print(sum2)\n",
    "sum2 = torch.exp(sum2.double())\n",
    "print(sum2)\n",
    "sum2 = sum2 + 1\n",
    "print(sum2)\n",
    "sum2 = 1/sum2\n",
    "print(sum2)\n",
    "print(\"Gradients:\")\n",
    "grads = torch.tensor([1,0.1],dtype=torch.double)\n",
    "sum2.backward(grads)\n",
    "\n",
    "\n",
    "print(a1.grad)\n",
    "print(b1.grad)\n",
    "print(a2.grad)\n",
    "print(b2.grad)\n",
    "print(c1.grad)\n",
    "\n",
    "\n",
    "\n"
   ]
  },
  {
   "cell_type": "markdown",
   "metadata": {},
   "source": [
    "## Networks\n"
   ]
  },
  {
   "cell_type": "code",
   "execution_count": 8,
   "metadata": {},
   "outputs": [
    {
     "name": "stdout",
     "output_type": "stream",
     "text": [
      "Net(\n",
      "  (conv1): Conv2d(1, 6, kernel_size=(5, 5), stride=(1, 1))\n",
      "  (conv2): Conv2d(6, 16, kernel_size=(5, 5), stride=(1, 1))\n",
      "  (fc1): Linear(in_features=400, out_features=120, bias=True)\n",
      "  (fc2): Linear(in_features=120, out_features=84, bias=True)\n",
      "  (fc3): Linear(in_features=84, out_features=10, bias=True)\n",
      ")\n"
     ]
    }
   ],
   "source": [
    "class Net(nn.Module):\n",
    "\n",
    "    def __init__(self):\n",
    "        super(Net, self).__init__()\n",
    "        # 1 input image channel, 6 output channels, 5x5 square convolution\n",
    "        # kernel\n",
    "        self.conv1 = nn.Conv2d(1, 6, 5)\n",
    "        self.conv2 = nn.Conv2d(6, 16, 5)\n",
    "        # an affine operation: y = Wx + b\n",
    "        self.fc1 = nn.Linear(16 * 5 * 5, 120)\n",
    "        self.fc2 = nn.Linear(120, 84)\n",
    "        self.fc3 = nn.Linear(84, 10)\n",
    "\n",
    "    def forward(self, x):\n",
    "        # Max pooling over a (2, 2) window\n",
    "        x = F.max_pool2d(F.relu(self.conv1(x)), (2, 2))\n",
    "        # If the size is a square you can only specify a single number\n",
    "        x = F.max_pool2d(F.relu(self.conv2(x)), 2)\n",
    "        x = x.view(-1, self.num_flat_features(x))\n",
    "        x = F.relu(self.fc1(x))\n",
    "        x = F.relu(self.fc2(x))\n",
    "        x = self.fc3(x)\n",
    "        return x\n",
    "\n",
    "    def num_flat_features(self, x):\n",
    "        size = x.size()[1:]  # all dimensions except the batch dimension\n",
    "        num_features = 1\n",
    "        for s in size:\n",
    "            num_features *= s\n",
    "        return num_features\n",
    "\n",
    "\n",
    "net = Net()\n",
    "print(net)"
   ]
  },
  {
   "cell_type": "markdown",
   "metadata": {},
   "source": [
    "__Learnable parameters of the network :__"
   ]
  },
  {
   "cell_type": "code",
   "execution_count": 10,
   "metadata": {
    "scrolled": true
   },
   "outputs": [
    {
     "name": "stdout",
     "output_type": "stream",
     "text": [
      "torch.Size([6, 1, 5, 5])\n",
      "torch.Size([6])\n",
      "torch.Size([16, 6, 5, 5])\n",
      "torch.Size([16])\n",
      "torch.Size([120, 400])\n",
      "torch.Size([120])\n",
      "torch.Size([84, 120])\n",
      "torch.Size([84])\n",
      "torch.Size([10, 84])\n",
      "torch.Size([10])\n",
      "10\n",
      "torch.Size([6, 1, 5, 5])\n"
     ]
    }
   ],
   "source": [
    "params = list(net.parameters())\n",
    "for i in params:\n",
    "    print(i.size())\n",
    "print(len(params))\n",
    "print(params[0].size())"
   ]
  },
  {
   "cell_type": "markdown",
   "metadata": {},
   "source": [
    "__Inputing a random 32x32 tensor__"
   ]
  },
  {
   "cell_type": "code",
   "execution_count": 11,
   "metadata": {},
   "outputs": [
    {
     "name": "stdout",
     "output_type": "stream",
     "text": [
      "tensor([[-0.0481, -0.0928, -0.0783, -0.0048, -0.0606,  0.1002,  0.0634,\n",
      "         -0.0067,  0.0828, -0.1136]])\n"
     ]
    }
   ],
   "source": [
    "input = torch.randn(1, 1, 32, 32)\n",
    "out = net(input)\n",
    "print(out)"
   ]
  },
  {
   "cell_type": "markdown",
   "metadata": {},
   "source": [
    "torch.nn only supports mini-batches. The entire torch.nn package only supports inputs that are a mini-batch of samples, and not a single sample.\n",
    "\n",
    "For example, nn.Conv2d will take in a 4D Tensor of nSamples x nChannels x Height x Width.\n",
    "\n",
    "If you have a single sample, just use input.unsqueeze(0) to add a fake batch dimension"
   ]
  },
  {
   "cell_type": "markdown",
   "metadata": {},
   "source": [
    "__Computing the loss function__"
   ]
  },
  {
   "cell_type": "code",
   "execution_count": 17,
   "metadata": {
    "scrolled": true
   },
   "outputs": [
    {
     "name": "stdout",
     "output_type": "stream",
     "text": [
      "tensor(39.6173)\n",
      "<MseLossBackward object at 0x7f7d87dd4ac8>\n"
     ]
    }
   ],
   "source": [
    "\n",
    "target = torch.arange(1, 11)  # a dummy target, for example\n",
    "target = target.view(1, -1)  # make it the same shape as output\n",
    "criterion = nn.MSELoss()\n",
    "\n",
    "loss = criterion(out, target)\n",
    "print(loss)\n",
    "print(loss.grad_fn)"
   ]
  },
  {
   "cell_type": "code",
   "execution_count": 18,
   "metadata": {},
   "outputs": [
    {
     "name": "stdout",
     "output_type": "stream",
     "text": [
      "<MseLossBackward object at 0x7f7d87dd4d68>\n",
      "<AddmmBackward object at 0x7f7dda69de80>\n",
      "<ExpandBackward object at 0x7f7d87dd4d68>\n"
     ]
    }
   ],
   "source": [
    "print(loss.grad_fn)  # MSELoss\n",
    "print(loss.grad_fn.next_functions[0][0])  # Linear\n",
    "print(loss.grad_fn.next_functions[0][0].next_functions[0][0])  # ReLU"
   ]
  },
  {
   "cell_type": "markdown",
   "metadata": {},
   "source": [
    "__BAckpropagation of the error__"
   ]
  },
  {
   "cell_type": "code",
   "execution_count": 19,
   "metadata": {},
   "outputs": [
    {
     "name": "stdout",
     "output_type": "stream",
     "text": [
      "conv1.bias.grad before backward\n",
      "None\n",
      "conv1.bias.grad after backward\n",
      "tensor([ 0.0198,  0.0075,  0.0763,  0.1378, -0.0207,  0.1505])\n"
     ]
    }
   ],
   "source": [
    "net.zero_grad()     # zeroes the gradient buffers of all parameters\n",
    "\n",
    "print('conv1.bias.grad before backward')\n",
    "print(net.conv1.bias.grad)\n",
    "\n",
    "loss.backward()\n",
    "\n",
    "print('conv1.bias.grad after backward')\n",
    "print(net.conv1.bias.grad)"
   ]
  },
  {
   "cell_type": "code",
   "execution_count": 20,
   "metadata": {},
   "outputs": [],
   "source": [
    "optimizer = optim.SGD(net.parameters(), lr=0.01)\n",
    "\n",
    "# in your training loop:\n",
    "optimizer.zero_grad()   # zero the gradient buffers\n",
    "output = net(input)\n",
    "loss = criterion(output, target)\n",
    "loss.backward()\n",
    "optimizer.step()    # Does the update"
   ]
  },
  {
   "cell_type": "markdown",
   "metadata": {},
   "source": [
    "## CIFAR-10 classifier example\n",
    "\n",
    "The output of torchvision datasets are PILImage images of range [0, 1]. We transform them to Tensors of normalized range [-1, 1]."
   ]
  },
  {
   "cell_type": "code",
   "execution_count": 21,
   "metadata": {},
   "outputs": [
    {
     "name": "stdout",
     "output_type": "stream",
     "text": [
      "Files already downloaded and verified\n",
      "Files already downloaded and verified\n"
     ]
    }
   ],
   "source": [
    "transform = transforms.Compose(\n",
    "    [transforms.ToTensor(),\n",
    "     transforms.Normalize((0.5, 0.5, 0.5), (0.5, 0.5, 0.5))])\n",
    "\n",
    "trainset = torchvision.datasets.CIFAR10(root='./data', train=True,\n",
    "                                        download=True, transform=transform)\n",
    "trainloader = torch.utils.data.DataLoader(trainset, batch_size=4,\n",
    "                                          shuffle=True, num_workers=2)\n",
    "\n",
    "testset = torchvision.datasets.CIFAR10(root='./data', train=False,\n",
    "                                       download=True, transform=transform)\n",
    "testloader = torch.utils.data.DataLoader(testset, batch_size=4,\n",
    "                                         shuffle=False, num_workers=2)\n",
    "\n",
    "classes = ('plane', 'car', 'bird', 'cat',\n",
    "           'deer', 'dog', 'frog', 'horse', 'ship', 'truck')"
   ]
  },
  {
   "cell_type": "markdown",
   "metadata": {},
   "source": [
    "__SHOWING SOME IMAGES__"
   ]
  },
  {
   "cell_type": "code",
   "execution_count": 22,
   "metadata": {},
   "outputs": [
    {
     "name": "stdout",
     "output_type": "stream",
     "text": [
      "horse horse   dog  deer\n"
     ]
    },
    {
     "data": {
      "image/png": "[encoded data removed]",
      "text/plain": [
       "<matplotlib.figure.Figure at 0x7f7d87db68d0>"
      ]
     },
     "metadata": {},
     "output_type": "display_data"
    }
   ],
   "source": [
    "def imshow(img):\n",
    "    img = img / 2 + 0.5     # unnormalize\n",
    "    npimg = img.numpy()\n",
    "    plt.imshow(np.transpose(npimg, (1, 2, 0)))\n",
    "\n",
    "\n",
    "# get some random training images\n",
    "dataiter = iter(trainloader)\n",
    "images, labels = dataiter.next()\n",
    "\n",
    "# show images\n",
    "imshow(torchvision.utils.make_grid(images))\n",
    "# print labels\n",
    "print(' '.join('%5s' % classes[labels[j]] for j in range(4)))"
   ]
  },
  {
   "cell_type": "markdown",
   "metadata": {},
   "source": [
    "__DEFINE THE NETWORK__"
   ]
  },
  {
   "cell_type": "code",
   "execution_count": 23,
   "metadata": {},
   "outputs": [],
   "source": [
    "class Net(nn.Module):\n",
    "    def __init__(self):\n",
    "        super(Net, self).__init__()\n",
    "        self.conv1 = nn.Conv2d(3, 6, 5)\n",
    "        self.pool = nn.MaxPool2d(2, 2)\n",
    "        self.conv2 = nn.Conv2d(6, 16, 5)\n",
    "        self.fc1 = nn.Linear(16 * 5 * 5, 120)\n",
    "        self.fc2 = nn.Linear(120, 84)\n",
    "        self.fc3 = nn.Linear(84, 10)\n",
    "\n",
    "    def forward(self, x):\n",
    "        x = self.pool(F.relu(self.conv1(x)))\n",
    "        x = self.pool(F.relu(self.conv2(x)))\n",
    "        x = x.view(-1, 16 * 5 * 5)\n",
    "        x = F.relu(self.fc1(x))\n",
    "        x = F.relu(self.fc2(x))\n",
    "        x = self.fc3(x)\n",
    "        return x\n",
    "\n",
    "\n",
    "net = Net()"
   ]
  },
  {
   "cell_type": "markdown",
   "metadata": {},
   "source": [
    "__DEFINE LOSS AND OPTIMIZER__"
   ]
  },
  {
   "cell_type": "code",
   "execution_count": 24,
   "metadata": {},
   "outputs": [],
   "source": [
    "criterion = nn.CrossEntropyLoss()\n",
    "optimizer = optim.SGD(net.parameters(), lr=0.001, momentum=0.9)"
   ]
  },
  {
   "cell_type": "markdown",
   "metadata": {},
   "source": [
    "__TRAIN THE NETWORK__"
   ]
  },
  {
   "cell_type": "code",
   "execution_count": 25,
   "metadata": {},
   "outputs": [
    {
     "name": "stdout",
     "output_type": "stream",
     "text": [
      "[1,  2000] loss: 2.205\n",
      "[1,  4000] loss: 1.903\n",
      "[1,  6000] loss: 1.735\n",
      "[1,  8000] loss: 1.603\n",
      "[1, 10000] loss: 1.519\n",
      "[1, 12000] loss: 1.477\n",
      "[2,  2000] loss: 1.433\n",
      "[2,  4000] loss: 1.373\n",
      "[2,  6000] loss: 1.385\n",
      "[2,  8000] loss: 1.350\n",
      "[2, 10000] loss: 1.321\n",
      "[2, 12000] loss: 1.277\n",
      "[3,  2000] loss: 1.229\n",
      "[3,  4000] loss: 1.222\n",
      "[3,  6000] loss: 1.192\n",
      "[3,  8000] loss: 1.201\n",
      "[3, 10000] loss: 1.172\n",
      "[3, 12000] loss: 1.172\n",
      "Finished Training\n"
     ]
    }
   ],
   "source": [
    "for epoch in range(3):  # loop over the dataset 3 times\n",
    "\n",
    "    running_loss = 0.0\n",
    "    for i, data in enumerate(trainloader, 0):\n",
    "        # get the inputs\n",
    "        inputs, labels = data\n",
    "\n",
    "        # zero the parameter gradients\n",
    "        optimizer.zero_grad()\n",
    "\n",
    "        # forward + backward + optimize\n",
    "        outputs = net(inputs)\n",
    "        loss = criterion(outputs, labels)\n",
    "        loss.backward()\n",
    "        optimizer.step()\n",
    "\n",
    "        # print statistics\n",
    "        running_loss += loss.item()\n",
    "        if i % 2000 == 1999:    # print every 2000 mini-batches\n",
    "            print('[%d, %5d] loss: %.3f' %\n",
    "                  (epoch + 1, i + 1, running_loss / 2000))\n",
    "            running_loss = 0.0\n",
    "\n",
    "print('Finished Training')"
   ]
  },
  {
   "cell_type": "markdown",
   "metadata": {},
   "source": [
    "__TESTING AGAINST TRAINING DATA__"
   ]
  },
  {
   "cell_type": "code",
   "execution_count": 26,
   "metadata": {},
   "outputs": [
    {
     "name": "stdout",
     "output_type": "stream",
     "text": [
      "Accuracy of the network on the 10000 test images: 58 %\n"
     ]
    }
   ],
   "source": [
    "correct = 0\n",
    "total = 0\n",
    "with torch.no_grad():\n",
    "    for data in testloader:\n",
    "        images, labels = data\n",
    "        outputs = net(images)\n",
    "        _, predicted = torch.max(outputs.data, 1)\n",
    "        total += labels.size(0)\n",
    "        correct += (predicted == labels).sum().item()\n",
    "\n",
    "print('Accuracy of the network on the 10000 test images: %d %%' % (\n",
    "    100 * correct / total))"
   ]
  },
  {
   "cell_type": "code",
   "execution_count": 27,
   "metadata": {},
   "outputs": [
    {
     "name": "stdout",
     "output_type": "stream",
     "text": [
      "Accuracy of plane : 66 %\n",
      "Accuracy of   car : 79 %\n",
      "Accuracy of  bird : 60 %\n",
      "Accuracy of   cat : 45 %\n",
      "Accuracy of  deer : 40 %\n",
      "Accuracy of   dog : 27 %\n",
      "Accuracy of  frog : 68 %\n",
      "Accuracy of horse : 63 %\n",
      "Accuracy of  ship : 68 %\n",
      "Accuracy of truck : 63 %\n"
     ]
    }
   ],
   "source": [
    "class_correct = list(0. for i in range(10))\n",
    "class_total = list(0. for i in range(10))\n",
    "with torch.no_grad():\n",
    "    for data in testloader:\n",
    "        images, labels = data\n",
    "        outputs = net(images)\n",
    "        _, predicted = torch.max(outputs, 1)\n",
    "        c = (predicted == labels).squeeze()\n",
    "        for i in range(4):\n",
    "            label = labels[i]\n",
    "            class_correct[label] += c[i].item()\n",
    "            class_total[label] += 1\n",
    "\n",
    "\n",
    "for i in range(10):\n",
    "    print('Accuracy of %5s : %2d %%' % (\n",
    "        classes[i], 100 * class_correct[i] / class_total[i]))"
   ]
  }
 ],
 "metadata": {
  "kernelspec": {
   "display_name": "Python 3",
   "language": "python",
   "name": "python3"
  },
  "language_info": {
   "codemirror_mode": {
    "name": "ipython",
    "version": 3
   },
   "file_extension": ".py",
   "mimetype": "text/x-python",
   "name": "python",
   "nbconvert_exporter": "python",
   "pygments_lexer": "ipython3",
   "version": "3.6.4"
  }
 },
 "nbformat": 4,
 "nbformat_minor": 2
}
