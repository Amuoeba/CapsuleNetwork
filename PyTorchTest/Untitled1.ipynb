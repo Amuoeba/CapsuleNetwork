{
 "cells": [
  {
   "cell_type": "code",
   "execution_count": 9,
   "metadata": {},
   "outputs": [
    {
     "name": "stdout",
     "output_type": "stream",
     "text": [
      "[3, 5, 7, 9]\n",
      "(2, 3, 3)\n",
      "[[[ 1  2  3]\n",
      "  [ 4  5  6]]\n",
      "\n",
      " [[ 7  8  9]\n",
      "  [11 21 31]]\n",
      "\n",
      " [[41 51 61]\n",
      "  [71 81 91]]]\n"
     ]
    }
   ],
   "source": [
    "from itertools import islice\n",
    "import numpy as np\n",
    "\n",
    "a = list(range(10))\n",
    "\n",
    "print(list(islice(a,3,None,2)))\n",
    "\n",
    "\n",
    "\n",
    "a = np.array([[[1,2,3],[4,5,6],[7,8,9]],[[11,21,31],[41,51,61],[71,81,91]]])\n",
    "print(a.shape)\n",
    "a = a.reshape(3,2,-1)\n",
    "print(a)\n"
   ]
  }
 ],
 "metadata": {
  "kernelspec": {
   "display_name": "Python 3",
   "language": "python",
   "name": "python3"
  },
  "language_info": {
   "codemirror_mode": {
    "name": "ipython",
    "version": 3
   },
   "file_extension": ".py",
   "mimetype": "text/x-python",
   "name": "python",
   "nbconvert_exporter": "python",
   "pygments_lexer": "ipython3",
   "version": "3.6.4"
  }
 },
 "nbformat": 4,
 "nbformat_minor": 2
}
