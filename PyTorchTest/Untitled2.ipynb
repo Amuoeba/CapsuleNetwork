{
 "cells": [
  {
   "cell_type": "code",
   "execution_count": 14,
   "metadata": {},
   "outputs": [],
   "source": [
    "class counter():\n",
    "    def __init__(self,rang):\n",
    "        self.rang = rang\n",
    "        self.sum = 0\n",
    "        self.collect = False\n",
    "    \n",
    "    def count(self):\n",
    "        for i in range(self.rang):\n",
    "            if self.collect:\n",
    "                yield(i)\n",
    "            self.sum += 1\n",
    "\n",
    "c = counter(3)\n",
    "            \n",
    "for i in range(100):\n",
    "    c.count()\n",
    "    if i%10 == 0:\n",
    "        c.collect = True\n",
    "        next(c.count)\n",
    "    else:\n",
    "        c.collect = False\n",
    "        \n",
    "        "
   ]
  }
 ],
 "metadata": {
  "kernelspec": {
   "display_name": "Python 3",
   "language": "python",
   "name": "python3"
  },
  "language_info": {
   "codemirror_mode": {
    "name": "ipython",
    "version": 3
   },
   "file_extension": ".py",
   "mimetype": "text/x-python",
   "name": "python",
   "nbconvert_exporter": "python",
   "pygments_lexer": "ipython3",
   "version": "3.6.4"
  }
 },
 "nbformat": 4,
 "nbformat_minor": 2
}
