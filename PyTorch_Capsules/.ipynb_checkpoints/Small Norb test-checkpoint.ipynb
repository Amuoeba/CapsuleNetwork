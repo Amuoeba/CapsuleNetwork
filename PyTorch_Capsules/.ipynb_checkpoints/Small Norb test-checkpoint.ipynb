{
 "cells": [
  {
   "cell_type": "code",
   "execution_count": 2,
   "metadata": {},
   "outputs": [
    {
     "name": "stderr",
     "output_type": "stream",
     "text": [
      "Loading images...: 100%|██████████| 48600/48600 [00:38<00:00, 1275.30it/s]\n",
      "Loading categories...: 100%|██████████| 24300/24300 [00:00<00:00, 1083592.08it/s]\n",
      "Loading info...: 100%|██████████| 24300/24300 [00:00<00:00, 180609.24it/s]\n",
      "Loading images...: 100%|██████████| 48600/48600 [00:37<00:00, 1296.39it/s]\n",
      "Loading categories...: 100%|██████████| 24300/24300 [00:00<00:00, 1078044.78it/s]\n",
      "Loading info...: 100%|██████████| 24300/24300 [00:00<00:00, 347972.82it/s]\n"
     ]
    }
   ],
   "source": [
    "import matplotlib.pyplot as plt\n",
    "from data_readers.Small_norb_reader import SmallNORBDataset\n",
    "\n",
    "\n",
    "\n",
    "\n",
    "dataset = SmallNORBDataset(dataset_root='/home/erik/Documents/Projects/CapsuleNetwork/small_NORB_data')"
   ]
  },
  {
   "cell_type": "code",
   "execution_count": 22,
   "metadata": {},
   "outputs": [
    {
     "name": "stdout",
     "output_type": "stream",
     "text": [
      "Dataset size: 56\n",
      "<class 'data_readers.Small_norb_reader.SmallNORBDataset'>\n",
      "24300\n",
      "['animal', 'human', 'airplane', 'truck', 'car']\n",
      "Datapoint size: 56\n",
      "None\n",
      "Train Data lenght:  24300\n",
      "Test Data lenght:  24300\n",
      "Data category: 0\n",
      "Azimuth 4\n",
      "Elevation 6\n",
      "Instance 8\n",
      "image_lt (96, 96)\n",
      "image_lr (96, 96)\n"
     ]
    }
   ],
   "source": [
    "import numpy as np\n",
    "import cv2\n",
    "import torch\n",
    "import sys\n",
    "import pickle\n",
    "\n",
    "\n",
    "subplots = plt.subplots(nrows=1, ncols=3)\n",
    "\n",
    "print(\"Dataset size: {}\".format(sys.getsizeof(dataset)))\n",
    "print(type(dataset))\n",
    "print(dataset.n_examples)\n",
    "print(dataset.categories)\n",
    "datapoint= dataset.data[\"train\"][0]\n",
    "print(\"Datapoint size: {}\".format(sys.getsizeof(datapoint)))\n",
    "print(datapoint.show(subplots))\n",
    "print(\"Train Data lenght: \",len(dataset.data[\"train\"]))\n",
    "print(\"Test Data lenght: \",len(dataset.data[\"train\"]))\n",
    "print(\"Data category:\",datapoint.category)\n",
    "print(\"Azimuth\",datapoint.azimuth)\n",
    "print(\"Elevation\",datapoint.elevation)\n",
    "print(\"Instance\",datapoint.instance)\n",
    "print(\"image_lt\",np.array(datapoint.image_lt).shape)\n",
    "print(\"image_lr\",np.array(datapoint.image_rt).shape)\n",
    "\n",
    "\n",
    "small = cv2.resize(datapoint.image_lt, dsize=(50, 50), interpolation=cv2.INTER_CUBIC)\n",
    "\n",
    "plt.imshow(datapoint.image_lt)\n",
    "plt.imshow(small)\n",
    "\n",
    "#with open(\"pickledump.obj\",\"wb\") as f:\n",
    "    #pickle.dump(dataset,f)\n",
    "#for dp in dataset.data[\"train\"]:\n",
    "    #print(dp.category)\n",
    "\n",
    "plt.close(\"all\")"
   ]
  },
  {
   "cell_type": "code",
   "execution_count": 111,
   "metadata": {
    "collapsed": true
   },
   "outputs": [
    {
     "name": "stdout",
     "output_type": "stream",
     "text": [
      "Number of examples 24300\n",
      "<class 'data_readers.Small_norb_reader.SmallNORBExample'>\n",
      "4\n",
      "<class 'data_readers.Small_norb_reader.SmallNORBDataset'>\n",
      "Test custom class----------------------------\n",
      "24300\n"
     ]
    }
   ],
   "source": [
    "from torch.utils.data import Dataset, DataLoader\n",
    "from torchvision import transforms, utils\n",
    "import os, os.path\n",
    "from itertools import islice\n",
    "\n",
    "onlyfiles = next(os.walk(\"/home/erik/Documents/Projects/CapsuleNetwork/small_NORB_data/Processed/Test/\"))[2]\n",
    "print (\"Number of examples\",len(onlyfiles))\n",
    "\n",
    "\n",
    "#with open(\"/home/erik/Documents/Projects/CapsuleNetwork/small_NORB_data/Processed/pickledump.obj\",\"rb\") as f:\n",
    "    #df = pickle.load(f)\n",
    "\n",
    "rt = \"/home/erik/Documents/Projects/CapsuleNetwork/small_NORB_data/Processed/\"\n",
    "#for item in enumerate(df.data[\"test\"]):\n",
    "    #name = rt+\"Test/\"+\"testes_\"+str(item[0])\n",
    "    #with open(name,\"wb\") as f:        \n",
    "        #pickle.dump(item[1],f)\n",
    "\n",
    "with open(\"/home/erik/Documents/Projects/CapsuleNetwork/small_NORB_data/Processed/Test/testes_1439\",\"rb\") as f:\n",
    "    dp = pickle.load(f)\n",
    "    print(type(dp))\n",
    "    print(dp.category)\n",
    "    plt.imshow(dp.image_lt)\n",
    "    plt.close(\"all\")\n",
    "    \n",
    "\n",
    "print(type(df))\n",
    "class myNORBreader(Dataset):\n",
    "    def __init__(self,root,train,transform=False):\n",
    "        self.train = train\n",
    "        self.root = root\n",
    "        self.foldier = root+self._set_data()\n",
    "        self.file_base_name = self._set_file_base()\n",
    "               \n",
    "        \n",
    "    def _set_data(self):\n",
    "        if self.train:\n",
    "            d = \"Processed/Train/\"\n",
    "        else:\n",
    "            d = \"Processed/Test/\"     \n",
    "        return d\n",
    "    \n",
    "    def _set_file_base(self):\n",
    "        if self.train:\n",
    "            n = \"traines_\"\n",
    "        else:\n",
    "            n = \"testes_\"\n",
    "        return n\n",
    "        \n",
    "    \n",
    "    def __len__(self):\n",
    "        no_files = next(os.walk(self.foldier))[2]\n",
    "        return(len(no_files))\n",
    "    \n",
    "    def __getitem__(self,idx):\n",
    "        path = self.foldier+self.file_base_name+str(idx)\n",
    "        with open(path,\"rb\") as f:\n",
    "            data_point = pickle.load(f)\n",
    "            sample = {\"image\":data_point.image_lt,\"tag\":data_point.category}\n",
    "        return(sample)\n",
    "\n",
    "class myNORBloader(DataLoader):\n",
    "    def __init__(self,dataset,*args,**kwargs):\n",
    "        super().__init__(dataset,*args,**kwargs)\n",
    "        self.categories = {\"animal\":0,\"human\":1,\"airplane\":2,\"truck\":3,\"car\":4}\n",
    "        \n",
    "    \n",
    "        \n",
    "\n",
    "print(\"Test custom class----------------------------\")\n",
    "\n",
    "loader = myNORBreader(\"../small_NORB_data/\",True)\n",
    "print(loader.__len__())"
   ]
  },
  {
   "cell_type": "code",
   "execution_count": 99,
   "metadata": {},
   "outputs": [
    {
     "name": "stdout",
     "output_type": "stream",
     "text": [
      "4.39 ms ± 161 µs per loop (mean ± std. dev. of 7 runs, 100 loops each)\n"
     ]
    }
   ],
   "source": [
    "%%timeit\n",
    "for i in range(100)\n",
    "    d = loader[i]\n"
   ]
  },
  {
   "cell_type": "code",
   "execution_count": 113,
   "metadata": {},
   "outputs": [],
   "source": [
    "data_loader = myNORBloader(loader,batch_size=10,shuffle=True)"
   ]
  },
  {
   "cell_type": "code",
   "execution_count": 115,
   "metadata": {},
   "outputs": [
    {
     "name": "stdout",
     "output_type": "stream",
     "text": [
      "{'animal': 0, 'human': 1, 'airplane': 2, 'truck': 3, 'car': 4}\n",
      "Axes: 5\n",
      "0\n",
      "<class 'dict'>\n",
      "Image tag: torch.Size([10])\n",
      "Image:  torch.Size([10, 96, 96])\n",
      "1\n",
      "<class 'dict'>\n",
      "Image tag: torch.Size([10])\n",
      "Image:  torch.Size([10, 96, 96])\n",
      "2\n",
      "<class 'dict'>\n",
      "Image tag: torch.Size([10])\n",
      "Image:  torch.Size([10, 96, 96])\n",
      "3\n",
      "<class 'dict'>\n",
      "Image tag: torch.Size([10])\n",
      "Image:  torch.Size([10, 96, 96])\n",
      "4\n",
      "<class 'dict'>\n",
      "Image tag: torch.Size([10])\n",
      "Image:  torch.Size([10, 96, 96])\n"
     ]
    },
    {
     "data": {
      "image/png": "[encoded data removed]",
      "text/plain": [
       "<Figure size 432x288 with 5 Axes>"
      ]
     },
     "metadata": {},
     "output_type": "display_data"
    }
   ],
   "source": [
    "print(data_loader.categories)\n",
    "plt.close(\"all\")\n",
    "fig, axes = plt.subplots(nrows=1, ncols=5)\n",
    "print(\"Axes:\",len(axes))\n",
    "\n",
    "for i_batch, sample_batched in islice(enumerate(data_loader),None,5,None):\n",
    "    print(i_batch)\n",
    "    print(type(sample_batched))\n",
    "    print(\"Image tag:\",sample_batched[\"tag\"].size())\n",
    "    print(\"Image: \",sample_batched[\"image\"].size())\n",
    "    axes[i_batch].imshow(sample_batched[\"image\"].numpy()[0])\n",
    "    "
   ]
  },
  {
   "cell_type": "code",
   "execution_count": null,
   "metadata": {},
   "outputs": [],
   "source": []
  }
 ],
 "metadata": {
  "kernelspec": {
   "display_name": "Python 3",
   "language": "python",
   "name": "python3"
  },
  "language_info": {
   "codemirror_mode": {
    "name": "ipython",
    "version": 3
   },
   "file_extension": ".py",
   "mimetype": "text/x-python",
   "name": "python",
   "nbconvert_exporter": "python",
   "pygments_lexer": "ipython3",
   "version": "3.6.5"
  }
 },
 "nbformat": 4,
 "nbformat_minor": 2
}
